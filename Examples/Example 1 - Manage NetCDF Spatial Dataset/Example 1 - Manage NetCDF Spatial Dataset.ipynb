{
 "cells": [
  {
   "cell_type": "code",
   "execution_count": null,
   "metadata": {},
   "outputs": [],
   "source": [
    "%load_ext autoreload\n",
    "%autoreload 1\n",
    "%matplotlib inline"
   ]
  },
  {
   "cell_type": "code",
   "execution_count": null,
   "metadata": {},
   "outputs": [],
   "source": [
    "import pandas as pd\n",
    "from ecodatatk.Spatial import NetCDFSpatial"
   ]
  },
  {
   "cell_type": "markdown",
   "metadata": {},
   "source": [
    "#### a) Initialize a NetCDFSpatial instance with the file path:\n"
   ]
  },
  {
   "cell_type": "code",
   "execution_count": 14,
   "metadata": {},
   "outputs": [
    {
     "name": "stderr",
     "output_type": "stream",
     "text": [
      "D:\\Git Repositories\\eco-data-manage-toolkit\\venv\\lib\\site-packages\\pyproj\\crs\\crs.py:53: FutureWarning: '+init=<authority>:<code>' syntax is deprecated. '<authority>:<code>' is the preferred initialization method. When making the change, be mindful of axis order changes: https://pyproj4.github.io/pyproj/stable/gotchas.html#axis-order-changes-in-proj-6\n",
      "  return _prepare_from_string(\" \".join(pjargs))\n"
     ]
    }
   ],
   "source": [
    "file = r'../Example Files/netcdf/Mangueira2000_01_01to2018_01_01.nc'\n",
    "dataset = NetCDFSpatial(file)"
   ]
  },
  {
   "cell_type": "markdown",
   "metadata": {},
   "source": [
    "#### b) Visualize the reader data and variables in file:\n"
   ]
  },
  {
   "cell_type": "code",
   "execution_count": 15,
   "metadata": {},
   "outputs": [
    {
     "data": {
      "text/plain": [
       "['latitude', 'longitude', 'sp', 'u10', 'v10', 't2m', 'd2m', 'skt']"
      ]
     },
     "execution_count": 15,
     "metadata": {},
     "output_type": "execute_result"
    }
   ],
   "source": [
    "dataset.data\n",
    "dataset.variables"
   ]
  },
  {
   "cell_type": "markdown",
   "metadata": {},
   "source": [
    "#### c) We can choice work with only interest variables by:"
   ]
  },
  {
   "cell_type": "code",
   "execution_count": null,
   "metadata": {},
   "outputs": [],
   "source": [
    "dataset.var_choice()\n",
    "dataset.variables"
   ]
  },
  {
   "cell_type": "markdown",
   "metadata": {},
   "source": [
    "If you already know the variables names, can insert through a list by:"
   ]
  },
  {
   "cell_type": "code",
   "execution_count": 16,
   "metadata": {},
   "outputs": [
    {
     "data": {
      "text/plain": [
       "Index(['sp', 'u10', 'v10', 't2m', 'longitude', 'latitude', 'geometry'], dtype='object')"
      ]
     },
     "execution_count": 16,
     "metadata": {},
     "output_type": "execute_result"
    }
   ],
   "source": [
    "dataset.var_choice(variables = ['sp', 'u10','v10','t2m'])\n",
    "dataset.variables"
   ]
  },
  {
   "cell_type": "markdown",
   "metadata": {},
   "source": [
    "This method filter our dataset for only the specific variables."
   ]
  },
  {
   "cell_type": "markdown",
   "metadata": {},
   "source": [
    "#### d) We can apply a temporal filter in dataset through by:"
   ]
  },
  {
   "cell_type": "code",
   "execution_count": 17,
   "metadata": {},
   "outputs": [],
   "source": [
    "#Insert dates on format Month/Day/Year\n",
    "StartDate = \"01/21/2000\"\n",
    "EndDate   =  \"01/21/2000\""
   ]
  },
  {
   "cell_type": "code",
   "execution_count": 18,
   "metadata": {},
   "outputs": [],
   "source": [
    "dataset.temporalFilter(StartDate,EndDate)"
   ]
  },
  {
   "cell_type": "markdown",
   "metadata": {},
   "source": [
    "#### e) It is also possible to perform a spatial filter by two methods."
   ]
  },
  {
   "cell_type": "markdown",
   "metadata": {},
   "source": [
    "The first method is to inform the coordinates of a point of interest, where a search will be carried out in the dataset looking for the data closest to that point and extracting its data series:   "
   ]
  },
  {
   "cell_type": "code",
   "execution_count": null,
   "metadata": {},
   "outputs": [],
   "source": [
    "# Set interest point coordinates (Lon/Lat):\n",
    "interest_point = [-50.75, -33.55]"
   ]
  },
  {
   "cell_type": "code",
   "execution_count": null,
   "metadata": {},
   "outputs": [],
   "source": [
    "dataset.pointFilter(interest_point)\n",
    "dataset.data"
   ]
  },
  {
   "cell_type": "markdown",
   "metadata": {},
   "source": [
    "The dataset returned by this method is just more than the time series of the variables chosen for the point found."
   ]
  },
  {
   "cell_type": "markdown",
   "metadata": {},
   "source": [
    "The second method performs the spatial filter using a search radius starting from the center of an informed shapefile: "
   ]
  },
  {
   "cell_type": "code",
   "execution_count": null,
   "metadata": {},
   "outputs": [],
   "source": [
    "# Read dataset again and apply a temporal filter:\n",
    "dataset = NetCDFSpatial(file)\n",
    "dataset.temporalFilter(StartDate,EndDate)"
   ]
  },
  {
   "cell_type": "code",
   "execution_count": 19,
   "metadata": {},
   "outputs": [],
   "source": [
    "# Shapefile path:\n",
    "mask_path =  r\"../Example Files/shapefile/polimirim.shp\""
   ]
  },
  {
   "cell_type": "code",
   "execution_count": 20,
   "metadata": {},
   "outputs": [
    {
     "name": "stdout",
     "output_type": "stream",
     "text": [
      "Invalid Shape or non-existent path.\n"
     ]
    }
   ],
   "source": [
    "# Apply the filter:\n",
    "dataset.centroidFilter(mask_path, radius=1) \n",
    "# Note that radius unit is dependent from crs, in this case radius = 1 is equivalent 1 degree"
   ]
  },
  {
   "cell_type": "markdown",
   "metadata": {},
   "source": [
    "Some data sets have a coarse grid, this implies that in smaller scale study areas, a filter using only the shapefile area could return a null result."
   ]
  },
  {
   "cell_type": "markdown",
   "metadata": {},
   "source": [
    "#### f) As we are working with time series, we may wish to perform a time resample. We can do this by:"
   ]
  },
  {
   "cell_type": "code",
   "execution_count": 21,
   "metadata": {},
   "outputs": [
    {
     "data": {
      "text/html": [
       "<div>\n",
       "<style scoped>\n",
       "    .dataframe tbody tr th:only-of-type {\n",
       "        vertical-align: middle;\n",
       "    }\n",
       "\n",
       "    .dataframe tbody tr th {\n",
       "        vertical-align: top;\n",
       "    }\n",
       "\n",
       "    .dataframe thead th {\n",
       "        text-align: right;\n",
       "    }\n",
       "</style>\n",
       "<table border=\"1\" class=\"dataframe\">\n",
       "  <thead>\n",
       "    <tr style=\"text-align: right;\">\n",
       "      <th></th>\n",
       "      <th>sp</th>\n",
       "      <th>u10</th>\n",
       "      <th>v10</th>\n",
       "      <th>t2m</th>\n",
       "      <th>longitude</th>\n",
       "      <th>latitude</th>\n",
       "      <th>geometry</th>\n",
       "    </tr>\n",
       "    <tr>\n",
       "      <th>time</th>\n",
       "      <th></th>\n",
       "      <th></th>\n",
       "      <th></th>\n",
       "      <th></th>\n",
       "      <th></th>\n",
       "      <th></th>\n",
       "      <th></th>\n",
       "    </tr>\n",
       "  </thead>\n",
       "  <tbody>\n",
       "    <tr>\n",
       "      <th>2000-01-21</th>\n",
       "      <td>100229.28125</td>\n",
       "      <td>-2.094112</td>\n",
       "      <td>-5.796221</td>\n",
       "      <td>298.854767</td>\n",
       "      <td>-52.625</td>\n",
       "      <td>-33.174999</td>\n",
       "      <td>POINT (-52.62500 -33.17500)</td>\n",
       "    </tr>\n",
       "    <tr>\n",
       "      <th>2000-01-21</th>\n",
       "      <td>100229.28125</td>\n",
       "      <td>-2.094112</td>\n",
       "      <td>-5.796221</td>\n",
       "      <td>298.854767</td>\n",
       "      <td>-52.625</td>\n",
       "      <td>-33.174999</td>\n",
       "      <td>POINT (-52.62500 -33.17500)</td>\n",
       "    </tr>\n",
       "  </tbody>\n",
       "</table>\n",
       "</div>"
      ],
      "text/plain": [
       "                      sp       u10       v10         t2m  longitude  \\\n",
       "time                                                                  \n",
       "2000-01-21  100229.28125 -2.094112 -5.796221  298.854767    -52.625   \n",
       "2000-01-21  100229.28125 -2.094112 -5.796221  298.854767    -52.625   \n",
       "\n",
       "             latitude                     geometry  \n",
       "time                                                \n",
       "2000-01-21 -33.174999  POINT (-52.62500 -33.17500)  \n",
       "2000-01-21 -33.174999  POINT (-52.62500 -33.17500)  "
      ]
     },
     "execution_count": 21,
     "metadata": {},
     "output_type": "execute_result"
    }
   ],
   "source": [
    "dataset.resampleDS(freq='1D', method='ffill', order=1)\n",
    "dataset.data"
   ]
  },
  {
   "cell_type": "markdown",
   "metadata": {},
   "source": [
    "We can inform resample frequency by 'freq' and resample method by 'method' arguments. The frequency argument can be a hourly, daily or monthly fraction to a specific temporal resample (e.g. freq = '0.5H' makes a resample to each 30 minutes). More information on the resample methods available, see help(NetCDFSpatial.resample).\n"
   ]
  },
  {
   "cell_type": "markdown",
   "metadata": {},
   "source": [
    "#### g) We can export dataset to a .csv format:"
   ]
  },
  {
   "cell_type": "code",
   "execution_count": null,
   "metadata": {},
   "outputs": [],
   "source": [
    "# Makes a point filter:\n",
    "interest_point = [-50.75, -33.55]\n",
    "a = dataset\n",
    "a.pointFilter(interest_point)"
   ]
  },
  {
   "cell_type": "code",
   "execution_count": 23,
   "metadata": {},
   "outputs": [],
   "source": [
    "# Exporto to csv:\n",
    "dataset.pts2csv('output/dataset-to-csv.csv')"
   ]
  },
  {
   "cell_type": "code",
   "execution_count": 24,
   "metadata": {},
   "outputs": [
    {
     "data": {
      "text/html": [
       "<div>\n",
       "<style scoped>\n",
       "    .dataframe tbody tr th:only-of-type {\n",
       "        vertical-align: middle;\n",
       "    }\n",
       "\n",
       "    .dataframe tbody tr th {\n",
       "        vertical-align: top;\n",
       "    }\n",
       "\n",
       "    .dataframe thead th {\n",
       "        text-align: right;\n",
       "    }\n",
       "</style>\n",
       "<table border=\"1\" class=\"dataframe\">\n",
       "  <thead>\n",
       "    <tr style=\"text-align: right;\">\n",
       "      <th></th>\n",
       "      <th>time</th>\n",
       "      <th>sp</th>\n",
       "      <th>u10</th>\n",
       "      <th>v10</th>\n",
       "      <th>t2m</th>\n",
       "      <th>longitude</th>\n",
       "      <th>latitude</th>\n",
       "      <th>geometry</th>\n",
       "    </tr>\n",
       "  </thead>\n",
       "  <tbody>\n",
       "    <tr>\n",
       "      <th>0</th>\n",
       "      <td>2000-01-21</td>\n",
       "      <td>100229.28</td>\n",
       "      <td>-2.094112</td>\n",
       "      <td>-5.796221</td>\n",
       "      <td>298.85477</td>\n",
       "      <td>-52.625</td>\n",
       "      <td>-33.174999</td>\n",
       "      <td>POINT (-52.625 -33.17499923706055)</td>\n",
       "    </tr>\n",
       "    <tr>\n",
       "      <th>1</th>\n",
       "      <td>2000-01-21</td>\n",
       "      <td>100229.28</td>\n",
       "      <td>-2.094112</td>\n",
       "      <td>-5.796221</td>\n",
       "      <td>298.85477</td>\n",
       "      <td>-52.625</td>\n",
       "      <td>-33.174999</td>\n",
       "      <td>POINT (-52.625 -33.17499923706055)</td>\n",
       "    </tr>\n",
       "  </tbody>\n",
       "</table>\n",
       "</div>"
      ],
      "text/plain": [
       "         time         sp       u10       v10        t2m  longitude   latitude  \\\n",
       "0  2000-01-21  100229.28 -2.094112 -5.796221  298.85477    -52.625 -33.174999   \n",
       "1  2000-01-21  100229.28 -2.094112 -5.796221  298.85477    -52.625 -33.174999   \n",
       "\n",
       "                             geometry  \n",
       "0  POINT (-52.625 -33.17499923706055)  \n",
       "1  POINT (-52.625 -33.17499923706055)  "
      ]
     },
     "execution_count": 24,
     "metadata": {},
     "output_type": "execute_result"
    }
   ],
   "source": [
    "# Read csv file:\n",
    "df = pd.read_csv('output/dataset-to-csv.csv', sep =';')\n",
    "df.head()"
   ]
  },
  {
   "cell_type": "markdown",
   "metadata": {},
   "source": [
    "#### h) Besides, we can export the data to .tiff format: "
   ]
  },
  {
   "cell_type": "markdown",
   "metadata": {},
   "source": [
    "- The data is interpolate on rectangular raster with bounds definite by user through outputBounds argument:\n",
    "\n",
    "    \n",
    "    outputBounds = [Longitude-Left Upper Point, Latitude-Left Upper Point, Longitude-Right Lower Point, Latitude-Right Lower Point]\n",
    "\n",
    "    The outputBounds argument default value catch the limit points in dataset and create a interpolation area."
   ]
  },
  {
   "cell_type": "markdown",
   "metadata": {},
   "source": [
    "- We can inform a shapefile mask to crop the resulting .tif file through 'mask_shp' argument. On this mask, we can also add a buffer in your area through buffer_mask (percentage) argument."
   ]
  },
  {
   "cell_type": "markdown",
   "metadata": {},
   "source": [
    "- Its possible select variables to export through 'var_list' argument."
   ]
  },
  {
   "cell_type": "code",
   "execution_count": null,
   "metadata": {
    "scrolled": true
   },
   "outputs": [],
   "source": [
    "# Read dataset again and apply a temporal filter:\n",
    "file = r'../Example Files/netcdf/Mangueira2000_01_01to2018_01_01.nc'\n",
    "dataset = NetCDFSpatial(file)\n",
    "\n",
    "# Apply a temporal filter:\n",
    "StartDate = \"01/21/2000\"\n",
    "EndDate   =  \"01/21/2000\"\n",
    "dataset.temporalFilter(StartDate,EndDate)\n",
    "\n",
    "# Shapefile path:\n",
    "mask_path =  r\"..Examples/Example Files/shapefile/polimirim.shp\"\n",
    "\n",
    "# Apply centroid filter:\n",
    "dataset.centroidFilter(mask_path, radius=1) \n",
    "\n",
    "# Apply temporal filter:\n",
    "dataset.resampleDS(freq='1D', method='ffill', order=1)"
   ]
  },
  {
   "cell_type": "code",
   "execution_count": null,
   "metadata": {
    "scrolled": true
   },
   "outputs": [],
   "source": [
    "import geopandas as gpd\n",
    "gpd.GeoDataFrame.from_file(mask_path)"
   ]
  },
  {
   "cell_type": "code",
   "execution_count": null,
   "metadata": {},
   "outputs": [],
   "source": [
    "# Exports data:\n",
    "dataset.ptsTime2Raster('../Example Files/raster-output/raster_base_name', var_list = ['sp','t2m'], outputBounds = None, outCRS = 'WGS84', mask_shp = mask_path, buffer_mask = 0)"
   ]
  }
 ],
 "metadata": {
  "kernelspec": {
   "display_name": "myenv",
   "language": "python",
   "name": "myenv"
  },
  "language_info": {
   "codemirror_mode": {
    "name": "ipython",
    "version": 3
   },
   "file_extension": ".py",
   "mimetype": "text/x-python",
   "name": "python",
   "nbconvert_exporter": "python",
   "pygments_lexer": "ipython3",
   "version": "3.7.4"
  }
 },
 "nbformat": 4,
 "nbformat_minor": 2
}
